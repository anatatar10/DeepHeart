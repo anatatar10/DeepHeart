{
 "cells": [
  {
   "metadata": {
    "ExecuteTime": {
     "end_time": "2025-05-27T06:50:05.385861Z",
     "start_time": "2025-05-27T06:49:57.791199Z"
    }
   },
   "cell_type": "code",
   "source": [
    "\n",
    "import numpy as np\n",
    "import os\n",
    "import pandas as pd\n",
    "import tensorflow as tf\n",
    "from tensorflow.keras.applications import DenseNet121\n",
    "from tensorflow.keras.callbacks import EarlyStopping\n",
    "from tensorflow.keras.models import Model\n",
    "from tensorflow.keras.layers import Input, Dense, GlobalAveragePooling2D, Dropout\n",
    "from tensorflow.keras.preprocessing.image import load_img, img_to_array\n",
    "from tensorflow.keras.metrics import AUC, Precision, Recall\n",
    "from sklearn.model_selection import train_test_split\n",
    "from sklearn.metrics import (\n",
    "    classification_report, roc_auc_score, average_precision_score,\n",
    "    matthews_corrcoef, hamming_loss, multilabel_confusion_matrix\n",
    ")\n",
    "import matplotlib.pyplot as plt\n",
    "import seaborn as sns\n",
    "import json\n",
    "from tqdm import tqdm\n",
    "import cv2\n",
    "\n",
    "# Parameters\n",
    "image_dir = \"/Users/anatatar/Desktop/Licenta/ai_models/data/ecg_images_final\"\n",
    "csv_path = \"/Users/anatatar/Desktop/Licenta/ai_models/data/labeled_ecg_images.csv\"\n",
    "target_classes = ['NORM', 'MI', 'STTC', 'CD', 'HYP']\n",
    "image_size = (224, 224)\n",
    "random_state = 42\n",
    "\n",
    "os.makedirs(\"densenet\", exist_ok=True)\n"
   ],
   "id": "a92dd64e7710be8a",
   "outputs": [],
   "execution_count": 2
  },
  {
   "metadata": {
    "ExecuteTime": {
     "end_time": "2025-05-27T06:50:13.183198Z",
     "start_time": "2025-05-27T06:50:05.414574Z"
    }
   },
   "cell_type": "code",
   "source": [
    "\n",
    "df = pd.read_csv(csv_path)\n",
    "\n",
    "def find_image_path(filename):\n",
    "    for folder in os.listdir(image_dir):\n",
    "        path = os.path.join(image_dir, folder, filename)\n",
    "        if os.path.exists(path):\n",
    "            return path\n",
    "    return None\n",
    "\n",
    "df['image_path'] = df['filename'].apply(find_image_path)\n",
    "df = df[df['image_path'].notnull()]\n",
    "print(f\"✅ Total usable samples (multi-label): {len(df)}\")\n",
    "\n",
    "train_df, test_df = train_test_split(df, test_size=0.15, random_state=random_state)\n",
    "train_df, val_df = train_test_split(train_df, test_size=0.15, random_state=random_state)\n",
    "\n",
    "def load_or_cache_images(df_subset, name):\n",
    "    X_path = f\"densenet/X_{name}.npy\"\n",
    "    y_path = f\"densenet/y_{name}.npy\"\n",
    "    if os.path.exists(X_path) and os.path.exists(y_path):\n",
    "        print(f\"✅ Loading cached {name} data...\")\n",
    "        X = np.load(X_path)\n",
    "        y = np.load(y_path)\n",
    "    else:\n",
    "        print(f\"⏳ Caching {name} data...\")\n",
    "        X, y = [], []\n",
    "        for _, row in tqdm(df_subset.iterrows(), total=len(df_subset), desc=f\"Loading {name} images\"):\n",
    "            img = load_img(row['image_path'], color_mode='rgb', target_size=image_size)\n",
    "            img_array = img_to_array(img) / 255.0\n",
    "            label_vector = row[target_classes].values.astype(np.float32)\n",
    "            X.append(img_array)\n",
    "            y.append(label_vector)\n",
    "        X, y = np.array(X), np.array(y)\n",
    "        np.save(X_path, X)\n",
    "        np.save(y_path, y)\n",
    "    return X, y\n",
    "\n",
    "X_train, y_train = load_or_cache_images(train_df, \"train\")\n",
    "X_val, y_val = load_or_cache_images(val_df, \"val\")\n",
    "X_test, y_test = load_or_cache_images(test_df, \"test\")\n"
   ],
   "id": "7a66c24f221a6ecf",
   "outputs": [
    {
     "name": "stdout",
     "output_type": "stream",
     "text": [
      "✅ Total usable samples (multi-label): 21799\n",
      "✅ Loading cached train data...\n",
      "✅ Loading cached val data...\n",
      "✅ Loading cached test data...\n"
     ]
    }
   ],
   "execution_count": 3
  },
  {
   "metadata": {
    "ExecuteTime": {
     "end_time": "2025-05-27T08:41:30.947966Z",
     "start_time": "2025-05-27T06:50:13.237495Z"
    }
   },
   "cell_type": "code",
   "source": [
    "\n",
    "inputs = Input(shape=(224, 224, 3))\n",
    "base_model = DenseNet121(include_top=False, weights='imagenet', input_tensor=inputs)\n",
    "x = GlobalAveragePooling2D()(base_model.output)\n",
    "x = Dropout(0.4)(x)\n",
    "output = Dense(len(target_classes), activation='sigmoid')(x)\n",
    "model = Model(inputs=inputs, outputs=output)\n",
    "\n",
    "for i, layer in enumerate(base_model.layers):\n",
    "    layer.trainable = i >= len(base_model.layers) - 40\n",
    "\n",
    "model.compile(\n",
    "    optimizer=tf.keras.optimizers.Adam(learning_rate=1e-4),\n",
    "    loss='binary_crossentropy',\n",
    "    metrics=[AUC(curve='ROC', multi_label=True, name='auc'),\n",
    "             Precision(name='precision'),\n",
    "             Recall(name='recall'),\n",
    "             'accuracy']\n",
    ")\n",
    "\n",
    "early_stopping = EarlyStopping(monitor='val_loss', patience=5, restore_best_weights=True)\n",
    "history = model.fit(X_train, y_train,\n",
    "                    validation_data=(X_val, y_val),\n",
    "                    epochs=25,\n",
    "                    batch_size=8,\n",
    "                    callbacks=[early_stopping],\n",
    "                    verbose=1)\n",
    "\n",
    "model.save(\"densenet/densenet_model.h5\")\n",
    "with open(\"densenet/history.json\", \"w\") as f:\n",
    "    json.dump(history.history, f)\n"
   ],
   "id": "e99058239953d127",
   "outputs": [
    {
     "name": "stdout",
     "output_type": "stream",
     "text": [
      "Epoch 1/25\n",
      "\u001B[1m1969/1969\u001B[0m \u001B[32m━━━━━━━━━━━━━━━━━━━━\u001B[0m\u001B[37m\u001B[0m \u001B[1m640s\u001B[0m 322ms/step - accuracy: 0.5087 - auc: 0.7259 - loss: 0.4911 - precision: 0.5743 - recall: 0.4197 - val_accuracy: 0.6191 - val_auc: 0.8747 - val_loss: 0.3530 - val_precision: 0.7247 - val_recall: 0.6130\n",
      "Epoch 2/25\n",
      "\u001B[1m1969/1969\u001B[0m \u001B[32m━━━━━━━━━━━━━━━━━━━━\u001B[0m\u001B[37m\u001B[0m \u001B[1m628s\u001B[0m 319ms/step - accuracy: 0.6010 - auc: 0.8355 - loss: 0.3962 - precision: 0.7018 - recall: 0.5572 - val_accuracy: 0.6392 - val_auc: 0.8816 - val_loss: 0.3343 - val_precision: 0.7600 - val_recall: 0.6282\n",
      "Epoch 3/25\n",
      "\u001B[1m1969/1969\u001B[0m \u001B[32m━━━━━━━━━━━━━━━━━━━━\u001B[0m\u001B[37m\u001B[0m \u001B[1m669s\u001B[0m 340ms/step - accuracy: 0.6208 - auc: 0.8548 - loss: 0.3740 - precision: 0.7265 - recall: 0.5858 - val_accuracy: 0.6396 - val_auc: 0.8870 - val_loss: 0.3332 - val_precision: 0.7634 - val_recall: 0.6279\n",
      "Epoch 4/25\n",
      "\u001B[1m1969/1969\u001B[0m \u001B[32m━━━━━━━━━━━━━━━━━━━━\u001B[0m\u001B[37m\u001B[0m \u001B[1m684s\u001B[0m 347ms/step - accuracy: 0.6263 - auc: 0.8648 - loss: 0.3643 - precision: 0.7332 - recall: 0.5979 - val_accuracy: 0.6662 - val_auc: 0.8886 - val_loss: 0.3253 - val_precision: 0.7597 - val_recall: 0.6526\n",
      "Epoch 5/25\n",
      "\u001B[1m1969/1969\u001B[0m \u001B[32m━━━━━━━━━━━━━━━━━━━━\u001B[0m\u001B[37m\u001B[0m \u001B[1m668s\u001B[0m 339ms/step - accuracy: 0.6561 - auc: 0.8811 - loss: 0.3406 - precision: 0.7591 - recall: 0.6261 - val_accuracy: 0.6561 - val_auc: 0.8892 - val_loss: 0.3232 - val_precision: 0.7685 - val_recall: 0.6509\n",
      "Epoch 6/25\n",
      "\u001B[1m1969/1969\u001B[0m \u001B[32m━━━━━━━━━━━━━━━━━━━━\u001B[0m\u001B[37m\u001B[0m \u001B[1m673s\u001B[0m 342ms/step - accuracy: 0.6653 - auc: 0.8903 - loss: 0.3270 - precision: 0.7725 - recall: 0.6477 - val_accuracy: 0.6493 - val_auc: 0.8906 - val_loss: 0.3241 - val_precision: 0.7575 - val_recall: 0.6626\n",
      "Epoch 7/25\n",
      "\u001B[1m1969/1969\u001B[0m \u001B[32m━━━━━━━━━━━━━━━━━━━━\u001B[0m\u001B[37m\u001B[0m \u001B[1m669s\u001B[0m 340ms/step - accuracy: 0.6828 - auc: 0.8994 - loss: 0.3122 - precision: 0.7883 - recall: 0.6677 - val_accuracy: 0.6507 - val_auc: 0.8908 - val_loss: 0.3233 - val_precision: 0.7639 - val_recall: 0.6661\n",
      "Epoch 8/25\n",
      "\u001B[1m1969/1969\u001B[0m \u001B[32m━━━━━━━━━━━━━━━━━━━━\u001B[0m\u001B[37m\u001B[0m \u001B[1m670s\u001B[0m 340ms/step - accuracy: 0.6863 - auc: 0.9085 - loss: 0.3024 - precision: 0.7964 - recall: 0.6800 - val_accuracy: 0.6435 - val_auc: 0.8930 - val_loss: 0.3263 - val_precision: 0.7538 - val_recall: 0.6655\n",
      "Epoch 9/25\n",
      "\u001B[1m1969/1969\u001B[0m \u001B[32m━━━━━━━━━━━━━━━━━━━━\u001B[0m\u001B[37m\u001B[0m \u001B[1m690s\u001B[0m 350ms/step - accuracy: 0.7001 - auc: 0.9136 - loss: 0.2934 - precision: 0.7986 - recall: 0.6916 - val_accuracy: 0.6640 - val_auc: 0.8901 - val_loss: 0.3302 - val_precision: 0.7519 - val_recall: 0.6649\n",
      "Epoch 10/25\n",
      "\u001B[1m1969/1969\u001B[0m \u001B[32m━━━━━━━━━━━━━━━━━━━━\u001B[0m\u001B[37m\u001B[0m \u001B[1m682s\u001B[0m 346ms/step - accuracy: 0.7195 - auc: 0.9249 - loss: 0.2759 - precision: 0.8166 - recall: 0.7143 - val_accuracy: 0.6626 - val_auc: 0.8846 - val_loss: 0.3461 - val_precision: 0.7565 - val_recall: 0.6644\n"
     ]
    },
    {
     "name": "stderr",
     "output_type": "stream",
     "text": [
      "WARNING:absl:You are saving your model as an HDF5 file via `model.save()` or `keras.saving.save_model(model)`. This file format is considered legacy. We recommend using instead the native Keras format, e.g. `model.save('my_model.keras')` or `keras.saving.save_model(model, 'my_model.keras')`. \n"
     ]
    }
   ],
   "execution_count": 4
  },
  {
   "metadata": {
    "ExecuteTime": {
     "end_time": "2025-05-27T08:44:53.366849Z",
     "start_time": "2025-05-27T08:44:53.060382Z"
    }
   },
   "cell_type": "code",
   "source": "model.save(\"densenet/densenet_model.keras\")\n",
   "id": "1cac49ac64d80498",
   "outputs": [],
   "execution_count": 9
  },
  {
   "metadata": {
    "ExecuteTime": {
     "end_time": "2025-05-27T08:44:49.765604Z",
     "start_time": "2025-05-27T08:41:31.021636Z"
    }
   },
   "cell_type": "code",
   "source": [
    "import numpy as np\n",
    "from tensorflow.keras.models import load_model\n",
    "\n",
    "# Load test data\n",
    "X_test = np.load(\"densenet/X_test.npy\")  # You must have saved this earlier\n",
    "y_test = np.load(\"densenet/y_test.npy\")\n",
    "\n",
    "# Load model\n",
    "model = load_model(\"/Users/anatatar/Desktop/Licenta/ai_models/src/densenet/densenet_model.h5\")\n",
    "\n",
    "# Evaluate\n",
    "\n",
    "results = model.evaluate(X_test, y_test, verbose=1)\n",
    "print(\"\\nTest results:\")\n",
    "print(f\"Loss: {results[0]:.4f} | AUC: {results[1]:.4f} | Precision: {results[2]:.4f} | Recall: {results[3]:.4f} | Accuracy: {results[4]:.4f}\")\n",
    "\n",
    "y_pred_probs = model.predict(X_test)\n",
    "y_pred_bin = (y_pred_probs > 0.5).astype(int)\n",
    "\n",
    "os.makedirs(\"densenet\", exist_ok=True)\n",
    "np.save(\"densenet/y_test.npy\", y_test)\n",
    "np.save(\"densenet/y_pred_bin.npy\", y_pred_bin)\n",
    "np.save(\"densenet/y_pred_probs.npy\", y_pred_probs)\n",
    "\n",
    "report = classification_report(y_test, y_pred_bin, target_names=target_classes, zero_division=0)\n",
    "print(report)\n",
    "\n",
    "with open(\"densenet/classification_report_densenet.txt\", \"w\") as f:\n",
    "    f.write(report)\n",
    "\n",
    "with open(\"densenet/all_metrics_densenet.txt\", \"w\") as f:\n",
    "    f.write(\"Classification Report:\\n\" + report + \"\\n\")\n",
    "    binary_acc = (y_test == y_pred_bin).mean()\n",
    "    f.write(f\"Binary accuracy: {binary_acc:.4f}\\n\")\n",
    "\n",
    "    try:\n",
    "        f.write(f\"AUROC macro: {roc_auc_score(y_test, y_pred_probs, average='macro'):.4f}\\n\")\n",
    "        f.write(f\"AUROC micro: {roc_auc_score(y_test, y_pred_probs, average='micro'):.4f}\\n\")\n",
    "    except:\n",
    "        pass\n",
    "    try:\n",
    "        f.write(f\"AUPRC macro: {average_precision_score(y_test, y_pred_probs, average='macro'):.4f}\\n\")\n",
    "        f.write(f\"AUPRC micro: {average_precision_score(y_test, y_pred_probs, average='micro'):.4f}\\n\")\n",
    "    except:\n",
    "        pass\n",
    "\n",
    "    f.write(f\"Hamming Loss: {hamming_loss(y_test, y_pred_bin):.4f}\\n\")\n",
    "    f.write(f\"Subset Accuracy: {np.all(y_test == y_pred_bin, axis=1).mean():.4f}\\n\")\n",
    "    f.write(f\"MCC: {matthews_corrcoef(y_test.flatten(), y_pred_bin.flatten()):.4f}\\n\")\n",
    "\n",
    "# Save confusion matrices\n",
    "cm = multilabel_confusion_matrix(y_test, y_pred_bin)\n",
    "for i, name in enumerate(target_classes):\n",
    "    plt.figure(figsize=(6, 5))\n",
    "    sns.heatmap(cm[i], annot=True, fmt='d', cmap='Blues',\n",
    "                xticklabels=['Pred Neg', 'Pred Pos'],\n",
    "                yticklabels=['Actual Neg', 'Actual Pos'])\n",
    "    plt.title(f\"Confusion Matrix - {name}\")\n",
    "    plt.tight_layout()\n",
    "    plt.savefig(f\"densenet/confusion_matrix_{name}.png\")\n",
    "    plt.close()\n"
   ],
   "id": "401ab32d1cb60f79",
   "outputs": [
    {
     "name": "stderr",
     "output_type": "stream",
     "text": [
      "WARNING:absl:Compiled the loaded model, but the compiled metrics have yet to be built. `model.compile_metrics` will be empty until you train or evaluate the model.\n",
      "/Users/anatatar/Desktop/Licenta/ai_models/.venv/lib/python3.10/site-packages/keras/src/models/functional.py:238: UserWarning: The structure of `inputs` doesn't match the expected structure.\n",
      "Expected: ['input_layer']\n",
      "Received: inputs=Tensor(shape=(None, 224, 224, 3))\n",
      "  warnings.warn(msg)\n"
     ]
    },
    {
     "name": "stdout",
     "output_type": "stream",
     "text": [
      "\u001B[1m103/103\u001B[0m \u001B[32m━━━━━━━━━━━━━━━━━━━━\u001B[0m\u001B[37m\u001B[0m \u001B[1m96s\u001B[0m 910ms/step - accuracy: 0.6808 - auc: 0.8911 - loss: 0.3258 - precision: 0.7813 - recall: 0.6364\n",
      "\n",
      "Test results:\n",
      "Loss: 0.3248 | AUC: 0.8916 | Precision: 0.7717 | Recall: 0.6406 | Accuracy: 0.6679\n"
     ]
    },
    {
     "name": "stderr",
     "output_type": "stream",
     "text": [
      "/Users/anatatar/Desktop/Licenta/ai_models/.venv/lib/python3.10/site-packages/keras/src/models/functional.py:238: UserWarning: The structure of `inputs` doesn't match the expected structure.\n",
      "Expected: ['input_layer']\n",
      "Received: inputs=Tensor(shape=(32, 224, 224, 3))\n",
      "  warnings.warn(msg)\n"
     ]
    },
    {
     "name": "stdout",
     "output_type": "stream",
     "text": [
      "\u001B[1m103/103\u001B[0m \u001B[32m━━━━━━━━━━━━━━━━━━━━\u001B[0m\u001B[37m\u001B[0m \u001B[1m99s\u001B[0m 948ms/step\n",
      "              precision    recall  f1-score   support\n",
      "\n",
      "        NORM       0.80      0.86      0.83      1442\n",
      "          MI       0.66      0.51      0.57       776\n",
      "        STTC       0.76      0.60      0.67       792\n",
      "          CD       0.84      0.52      0.64       778\n",
      "         HYP       0.75      0.39      0.51       380\n",
      "\n",
      "   micro avg       0.77      0.64      0.70      4168\n",
      "   macro avg       0.76      0.58      0.65      4168\n",
      "weighted avg       0.77      0.64      0.69      4168\n",
      " samples avg       0.69      0.66      0.66      4168\n",
      "\n"
     ]
    }
   ],
   "execution_count": 5
  },
  {
   "metadata": {
    "ExecuteTime": {
     "end_time": "2025-06-04T10:50:49.080149Z",
     "start_time": "2025-06-04T10:50:49.048378Z"
    }
   },
   "cell_type": "code",
   "source": [
    "# Index of the class you care about (e.g., HYP)\n",
    "hyp_index = target_classes.index(\"HYP\")\n",
    "\n",
    "# Index of the sample\n",
    "sample_index = 0  # or any other index\n",
    "\n",
    "# Check correctness\n",
    "is_correct = y_test[sample_index, hyp_index] == y_pred_bin[sample_index, hyp_index]\n",
    "\n",
    "print(f\"Sample {sample_index} prediction for HYP: {'✅ Correct' if is_correct else '❌ Incorrect'}\")\n"
   ],
   "id": "5993405128bc7d70",
   "outputs": [
    {
     "name": "stdout",
     "output_type": "stream",
     "text": [
      "Sample 0 prediction for HYP: ✅ Correct\n"
     ]
    }
   ],
   "execution_count": 4
  },
  {
   "metadata": {
    "ExecuteTime": {
     "end_time": "2025-06-04T05:25:04.580779Z",
     "start_time": "2025-06-04T05:25:04.322056Z"
    }
   },
   "cell_type": "code",
   "source": [
    "\n",
    "import matplotlib.pyplot as plt\n",
    "\n",
    "import json\n",
    "\n",
    "with open(\"/Users/anatatar/Desktop/Licenta/ai_models/src/densenet/history.json\", \"r\") as f:\n",
    "    history = json.load(f)\n",
    "\n",
    "\n",
    "plt.figure(figsize=(10, 4))\n",
    "plt.subplot(1, 2, 1)\n",
    "plt.plot(history[\"loss\"], label=\"Train Loss\")\n",
    "plt.plot(history[\"val_loss\"], label=\"Val Loss\")\n",
    "plt.legend()\n",
    "plt.title(\"Loss Curve\")\n",
    "\n",
    "plt.subplot(1, 2, 2)\n",
    "plt.plot(history[\"accuracy\"], label=\"Train Accuracy\")\n",
    "plt.plot(history[\"val_accuracy\"], label=\"Val Accuracy\")\n",
    "plt.legend()\n",
    "plt.title(\"Accuracy Curve\")\n",
    "\n",
    "plt.tight_layout()\n",
    "plt.savefig(\"densenet/loss_accuracy_curve.png\")\n",
    "plt.show()\n"
   ],
   "id": "fdf65ef248bd09fa",
   "outputs": [
    {
     "data": {
      "text/plain": [
       "<Figure size 1000x400 with 2 Axes>"
      ],
      "image/png": "[encoded data removed]"
     },
     "metadata": {},
     "output_type": "display_data"
    }
   ],
   "execution_count": 15
  },
  {
   "metadata": {
    "ExecuteTime": {
     "end_time": "2025-05-27T08:44:49.954443Z",
     "start_time": "2025-05-27T08:44:49.946880Z"
    }
   },
   "cell_type": "code",
   "source": [
    "def generate_grad_cam(model, image_array, class_index, output_path, last_conv_layer_name=\"conv5_block3_out\"):\n",
    "    grad_model = tf.keras.models.Model(\n",
    "        [model.inputs], [model.get_layer(last_conv_layer_name).output, model.output]\n",
    "    )\n",
    "    with tf.GradientTape() as tape:\n",
    "        inputs = tf.cast(np.expand_dims(image_array, axis=0), tf.float32)\n",
    "        conv_outputs, predictions = grad_model(inputs)\n",
    "        loss = predictions[:, class_index]\n",
    "    grads = tape.gradient(loss, conv_outputs)[0]  # Shape: [H, W, C]\n",
    "    conv_outputs = conv_outputs[0]\n",
    "    weights = tf.reduce_mean(grads, axis=(0, 1))  # Now valid\n",
    "    cam = np.zeros(conv_outputs.shape[0:2], dtype=np.float32)\n",
    "    for i, w in enumerate(weights):\n",
    "        cam += w * conv_outputs[:, :, i]\n",
    "    cam = np.maximum(cam, 0)\n",
    "    cam = cv2.resize(cam, image_size)\n",
    "    cam -= cam.min()\n",
    "    cam /= cam.max()\n",
    "    heatmap = cv2.applyColorMap(np.uint8(255 * cam), cv2.COLORMAP_JET)\n",
    "    img = np.uint8(255 * image_array)\n",
    "    overlay = cv2.addWeighted(img, 0.6, heatmap, 0.4, 0)\n",
    "    cv2.imwrite(output_path, overlay)\n",
    "    print(f\"✅ Grad-CAM saved to {output_path}\")\n"
   ],
   "id": "14b53dd8fbfdf13e",
   "outputs": [],
   "execution_count": 7
  },
  {
   "metadata": {
    "ExecuteTime": {
     "end_time": "2025-05-27T08:44:53.039852Z",
     "start_time": "2025-05-27T08:44:49.999202Z"
    }
   },
   "cell_type": "code",
   "source": [
    "for i, class_name in enumerate(target_classes):\n",
    "    generate_grad_cam(\n",
    "        model,\n",
    "        X_test[0],\n",
    "        class_index=i,\n",
    "        output_path=f\"densenet/gradcam_{class_name}_sample0.png\",\n",
    "        last_conv_layer_name=\"conv5_block16_concat\"\n",
    "    )\n"
   ],
   "id": "81e90cdbfd11351e",
   "outputs": [
    {
     "name": "stderr",
     "output_type": "stream",
     "text": [
      "/Users/anatatar/Desktop/Licenta/ai_models/.venv/lib/python3.10/site-packages/keras/src/models/functional.py:238: UserWarning: The structure of `inputs` doesn't match the expected structure.\n",
      "Expected: [['input_layer']]\n",
      "Received: inputs=Tensor(shape=(1, 224, 224, 3))\n",
      "  warnings.warn(msg)\n"
     ]
    },
    {
     "name": "stdout",
     "output_type": "stream",
     "text": [
      "✅ Grad-CAM saved to densenet/gradcam_NORM_sample0.png\n",
      "✅ Grad-CAM saved to densenet/gradcam_MI_sample0.png\n",
      "✅ Grad-CAM saved to densenet/gradcam_STTC_sample0.png\n",
      "✅ Grad-CAM saved to densenet/gradcam_CD_sample0.png\n",
      "✅ Grad-CAM saved to densenet/gradcam_HYP_sample0.png\n"
     ]
    }
   ],
   "execution_count": 8
  }
 ],
 "metadata": {
  "kernelspec": {
   "display_name": "Python 3",
   "language": "python",
   "name": "python3"
  },
  "language_info": {
   "codemirror_mode": {
    "name": "ipython",
    "version": 2
   },
   "file_extension": ".py",
   "mimetype": "text/x-python",
   "name": "python",
   "nbconvert_exporter": "python",
   "pygments_lexer": "ipython2",
   "version": "2.7.6"
  }
 },
 "nbformat": 4,
 "nbformat_minor": 5
}
