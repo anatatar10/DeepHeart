{
 "cells": [
  {
   "cell_type": "code",
   "id": "initial_id",
   "metadata": {
    "collapsed": true,
    "ExecuteTime": {
     "end_time": "2025-06-06T07:05:39.505415Z",
     "start_time": "2025-06-06T07:05:39.385352Z"
    }
   },
   "source": [
    "import numpy as np\n",
    "import os\n",
    "import pandas as pd\n",
    "import tensorflow as tf\n",
    "import matplotlib.pyplot as plt\n",
    "import cv2\n",
    "import seaborn as sns\n",
    "\n",
    "from tensorflow.keras.applications import ResNet50\n",
    "from tensorflow.keras.models import Model\n",
    "from tensorflow.keras.layers import Input, Dense, GlobalAveragePooling2D, Dropout\n",
    "from tensorflow.keras.callbacks import EarlyStopping\n",
    "from tensorflow.keras.preprocessing.image import load_img, img_to_array\n",
    "from sklearn.model_selection import train_test_split\n",
    "from sklearn.metrics import (\n",
    "    classification_report, roc_auc_score, average_precision_score,\n",
    "    matthews_corrcoef, hamming_loss, multilabel_confusion_matrix\n",
    ")\n",
    "\n",
    "# --- Parameters ---\n",
    "image_dir = \"/Users/anatatar/Desktop/Licenta/deepheart/ai_models/data/ecg_images_final\"\n",
    "csv_path = \"/Users/anatatar/Desktop/Licenta/deepheart/ai_models/data/labeled_ecg_images.csv\"\n",
    "target_classes = ['NORM', 'MI', 'STTC', 'CD', 'HYP']\n",
    "image_size = (224, 224)\n",
    "random_state = 42\n"
   ],
   "outputs": [],
   "execution_count": 5
  },
  {
   "metadata": {
    "jupyter": {
     "is_executing": true
    },
    "ExecuteTime": {
     "start_time": "2025-06-06T07:05:40.997912Z"
    }
   },
   "cell_type": "code",
   "source": [
    "df = pd.read_csv(csv_path)\n",
    "\n",
    "def find_image_path(filename):\n",
    "    for folder in os.listdir(image_dir):\n",
    "        path = os.path.join(image_dir, folder, filename)\n",
    "        if os.path.exists(path):\n",
    "            return path\n",
    "    return None\n",
    "\n",
    "df['image_path'] = df['filename'].apply(find_image_path)\n",
    "df = df[df['image_path'].notnull()]\n",
    "print(f\"✅ Total usable samples: {len(df)}\")\n",
    "\n",
    "train_df, test_df = train_test_split(df, test_size=0.15, random_state=random_state)\n",
    "train_df, val_df = train_test_split(train_df, test_size=0.15, random_state=random_state)\n",
    "\n",
    "def load_multilabel_images(df_subset):\n",
    "    X, y = [], []\n",
    "    for _, row in df_subset.iterrows():\n",
    "        img = load_img(row['image_path'], color_mode='rgb', target_size=image_size)\n",
    "        img_array = img_to_array(img) / 255.0\n",
    "        label_vector = row[target_classes].values.astype(np.float32)\n",
    "        X.append(img_array)\n",
    "        y.append(label_vector)\n",
    "    return np.array(X), np.array(y)\n",
    "\n",
    "X_train, y_train = load_multilabel_images(train_df)\n",
    "X_val, y_val = load_multilabel_images(val_df)\n",
    "X_test, y_test = load_multilabel_images(test_df)\n"
   ],
   "id": "114cbf48df1edfa2",
   "outputs": [
    {
     "name": "stdout",
     "output_type": "stream",
     "text": [
      "✅ Total usable samples: 21799\n"
     ]
    }
   ],
   "execution_count": null
  },
  {
   "metadata": {},
   "cell_type": "code",
   "outputs": [
    {
     "name": "stdout",
     "output_type": "stream",
     "text": [
      "Epoch 1/25\n",
      "\u001B[1m1969/1969\u001B[0m \u001B[32m━━━━━━━━━━━━━━━━━━━━\u001B[0m\u001B[37m\u001B[0m \u001B[1m1343s\u001B[0m 679ms/step - accuracy: 0.4975 - auc: 0.7413 - loss: 0.4766 - precision: 0.6031 - recall: 0.3869 - val_accuracy: 0.6065 - val_auc: 0.8477 - val_loss: 0.3842 - val_precision: 0.7523 - val_recall: 0.4657\n",
      "Epoch 2/25\n",
      "\u001B[1m1969/1969\u001B[0m \u001B[32m━━━━━━━━━━━━━━━━━━━━\u001B[0m\u001B[37m\u001B[0m \u001B[1m1352s\u001B[0m 686ms/step - accuracy: 0.5925 - auc: 0.8334 - loss: 0.3986 - precision: 0.7058 - recall: 0.5338 - val_accuracy: 0.6209 - val_auc: 0.8722 - val_loss: 0.3530 - val_precision: 0.7293 - val_recall: 0.6305\n",
      "Epoch 3/25\n",
      "\u001B[1m1969/1969\u001B[0m \u001B[32m━━━━━━━━━━━━━━━━━━━━\u001B[0m\u001B[37m\u001B[0m \u001B[1m1372s\u001B[0m 697ms/step - accuracy: 0.6245 - auc: 0.8603 - loss: 0.3640 - precision: 0.7366 - recall: 0.5895 - val_accuracy: 0.6306 - val_auc: 0.8830 - val_loss: 0.3419 - val_precision: 0.7352 - val_recall: 0.6394\n",
      "Epoch 4/25\n",
      "\u001B[1m1969/1969\u001B[0m \u001B[32m━━━━━━━━━━━━━━━━━━━━\u001B[0m\u001B[37m\u001B[0m \u001B[1m1400s\u001B[0m 711ms/step - accuracy: 0.6383 - auc: 0.8747 - loss: 0.3456 - precision: 0.7547 - recall: 0.6144 - val_accuracy: 0.6356 - val_auc: 0.8857 - val_loss: 0.3358 - val_precision: 0.7777 - val_recall: 0.6038\n",
      "Epoch 5/25\n",
      "\u001B[1m1969/1969\u001B[0m \u001B[32m━━━━━━━━━━━━━━━━━━━━\u001B[0m\u001B[37m\u001B[0m \u001B[1m1390s\u001B[0m 706ms/step - accuracy: 0.6472 - auc: 0.8857 - loss: 0.3342 - precision: 0.7618 - recall: 0.6313 - val_accuracy: 0.6475 - val_auc: 0.8897 - val_loss: 0.3259 - val_precision: 0.7694 - val_recall: 0.6532\n",
      "Epoch 6/25\n",
      "\u001B[1m1969/1969\u001B[0m \u001B[32m━━━━━━━━━━━━━━━━━━━━\u001B[0m\u001B[37m\u001B[0m \u001B[1m1316s\u001B[0m 668ms/step - accuracy: 0.6694 - auc: 0.8962 - loss: 0.3162 - precision: 0.7784 - recall: 0.6574 - val_accuracy: 0.6514 - val_auc: 0.8896 - val_loss: 0.3273 - val_precision: 0.7673 - val_recall: 0.6305\n",
      "Epoch 7/25\n",
      "\u001B[1m1969/1969\u001B[0m \u001B[32m━━━━━━━━━━━━━━━━━━━━\u001B[0m\u001B[37m\u001B[0m \u001B[1m1321s\u001B[0m 671ms/step - accuracy: 0.6808 - auc: 0.9074 - loss: 0.3012 - precision: 0.7972 - recall: 0.6788 - val_accuracy: 0.6486 - val_auc: 0.8917 - val_loss: 0.3321 - val_precision: 0.7754 - val_recall: 0.6253\n",
      "Epoch 8/25\n",
      "\u001B[1m1969/1969\u001B[0m \u001B[32m━━━━━━━━━━━━━━━━━━━━\u001B[0m\u001B[37m\u001B[0m \u001B[1m1312s\u001B[0m 666ms/step - accuracy: 0.6964 - auc: 0.9175 - loss: 0.2828 - precision: 0.8075 - recall: 0.6985 - val_accuracy: 0.6245 - val_auc: 0.8912 - val_loss: 0.3349 - val_precision: 0.7456 - val_recall: 0.6546\n",
      "Epoch 9/25\n",
      "\u001B[1m1969/1969\u001B[0m \u001B[32m━━━━━━━━━━━━━━━━━━━━\u001B[0m\u001B[37m\u001B[0m \u001B[1m1411s\u001B[0m 717ms/step - accuracy: 0.7112 - auc: 0.9291 - loss: 0.2653 - precision: 0.8248 - recall: 0.7254 - val_accuracy: 0.6388 - val_auc: 0.8877 - val_loss: 0.3400 - val_precision: 0.7487 - val_recall: 0.6543\n",
      "Epoch 10/25\n",
      "\u001B[1m1969/1969\u001B[0m \u001B[32m━━━━━━━━━━━━━━━━━━━━\u001B[0m\u001B[37m\u001B[0m \u001B[1m1360s\u001B[0m 691ms/step - accuracy: 0.7340 - auc: 0.9447 - loss: 0.2349 - precision: 0.8462 - recall: 0.7652 - val_accuracy: 0.6414 - val_auc: 0.8766 - val_loss: 0.3809 - val_precision: 0.7253 - val_recall: 0.6400\n"
     ]
    }
   ],
   "execution_count": 3,
   "source": [
    "inputs = Input(shape=(224, 224, 3))\n",
    "base_model = ResNet50(include_top=False, weights='imagenet', input_tensor=inputs)\n",
    "x = GlobalAveragePooling2D()(base_model.output)\n",
    "x = Dropout(0.4)(x)\n",
    "output = Dense(len(target_classes), activation='sigmoid')(x)\n",
    "\n",
    "model = Model(inputs=inputs, outputs=output)\n",
    "\n",
    "# Freeze early layers\n",
    "for layer in base_model.layers[:-100]:\n",
    "    layer.trainable = False\n",
    "\n",
    "from tensorflow.keras.metrics import AUC, Precision, Recall\n",
    "\n",
    "model.compile(\n",
    "    optimizer=tf.keras.optimizers.Adam(learning_rate=1e-4),\n",
    "    loss='binary_crossentropy',\n",
    "    metrics=[\n",
    "        AUC(curve='ROC', multi_label=True, name='auc'),\n",
    "        Precision(name='precision'),\n",
    "        Recall(name='recall'),\n",
    "        'accuracy'\n",
    "    ]\n",
    ")\n",
    "\n",
    "early_stopping = EarlyStopping(monitor='val_loss', patience=5, restore_best_weights=True)\n",
    "\n",
    "history = model.fit(\n",
    "    X_train, y_train,\n",
    "    validation_data=(X_val, y_val),\n",
    "    epochs=25,\n",
    "    batch_size=8,\n",
    "    callbacks=[early_stopping],\n",
    "    verbose=1\n",
    ")\n"
   ],
   "id": "3690ee9880825ddc"
  },
  {
   "metadata": {},
   "cell_type": "code",
   "outputs": [],
   "execution_count": null,
   "source": [
    "inputs = Input(shape=(224, 224, 3))\n",
    "base_model = ResNet50(include_top=False, weights='imagenet', input_tensor=inputs)\n",
    "x = GlobalAveragePooling2D()(base_model.output)\n",
    "x = Dropout(0.4)(x)\n",
    "output = Dense(len(target_classes), activation='sigmoid')(x)\n",
    "\n",
    "model = Model(inputs=inputs, outputs=output)\n",
    "\n",
    "# Freeze early layers\n",
    "for layer in base_model.layers[:-100]:\n",
    "    layer.trainable = False\n",
    "\n",
    "from tensorflow.keras.metrics import AUC, Precision, Recall\n",
    "\n",
    "model.compile(\n",
    "    optimizer=tf.keras.optimizers.Adam(learning_rate=1e-4),\n",
    "    loss='binary_crossentropy',\n",
    "    metrics=[\n",
    "        AUC(curve='ROC', multi_label=True, name='auc'),\n",
    "        Precision(name='precision'),\n",
    "        Recall(name='recall'),\n",
    "        'accuracy'\n",
    "    ]\n",
    ")\n",
    "\n",
    "early_stopping = EarlyStopping(monitor='val_loss', patience=5, restore_best_weights=True)\n",
    "\n",
    "checkpoint = ModelCheckpoint(\n",
    "    filepath='best_resnet50_ecg.h5',  # or .keras for newer format\n",
    "    monitor='val_loss',\n",
    "    save_best_only=True,\n",
    "    save_weights_only=False,\n",
    "    verbose=1\n",
    ")\n",
    "\n",
    "early_stopping = EarlyStopping(\n",
    "    monitor='val_loss',\n",
    "    patience=5,\n",
    "    restore_best_weights=True,\n",
    "    verbose=1\n",
    ")\n",
    "\n",
    "history = model.fit(\n",
    "    X_train, y_train,\n",
    "    validation_data=(X_val, y_val),\n",
    "    epochs=25,\n",
    "    batch_size=8,\n",
    "    callbacks=[early_stopping, checkpoint],\n",
    "    verbose=1\n",
    ")\n",
    "\n"
   ],
   "id": "b970abe5dc277050"
  },
  {
   "metadata": {
    "ExecuteTime": {
     "end_time": "2025-05-26T16:45:03.506200Z",
     "start_time": "2025-05-26T16:45:02.814827Z"
    }
   },
   "cell_type": "code",
   "source": "model.save('resnet_ecg_model.keras')",
   "id": "6e83fcbad934e1d2",
   "outputs": [],
   "execution_count": 10
  },
  {
   "metadata": {
    "ExecuteTime": {
     "end_time": "2025-05-26T16:45:01.619383Z",
     "start_time": "2025-05-26T16:45:00.929377Z"
    }
   },
   "cell_type": "code",
   "source": "model.save('resnet/resnet_ecg_model.h5')# or use .h5 if preferred\n",
   "id": "567f628d8829a237",
   "outputs": [
    {
     "name": "stderr",
     "output_type": "stream",
     "text": [
      "WARNING:absl:You are saving your model as an HDF5 file via `model.save()` or `keras.saving.save_model(model)`. This file format is considered legacy. We recommend using instead the native Keras format, e.g. `model.save('my_model.keras')` or `keras.saving.save_model(model, 'my_model.keras')`. \n"
     ]
    }
   ],
   "execution_count": 9
  },
  {
   "metadata": {
    "ExecuteTime": {
     "end_time": "2025-05-26T18:16:19.928968Z",
     "start_time": "2025-05-26T18:12:27.100504Z"
    }
   },
   "cell_type": "code",
   "source": [
    "# Evaluate ResNet model\n",
    "results = model.evaluate(X_test, y_test, verbose=1)\n",
    "print(\"\\nTest results:\")\n",
    "print(f\"Loss: {results[0]:.4f} | AUC: {results[1]:.4f} | Precision: {results[2]:.4f} | Recall: {results[3]:.4f} | Accuracy: {results[4]:.4f}\")\n",
    "\n",
    "y_pred_probs = model.predict(X_test)\n",
    "y_pred_bin = (y_pred_probs > 0.5).astype(int)\n",
    "\n",
    "os.makedirs(\"resnet\", exist_ok=True)\n",
    "np.save(\"resnet/y_test.npy\", y_test)\n",
    "np.save(\"resnet/y_pred_bin.npy\", y_pred_bin)\n",
    "np.save(\"resnet/y_pred_probs.npy\", y_pred_probs)\n",
    "\n",
    "report = classification_report(y_test, y_pred_bin, target_names=target_classes, zero_division=0)\n",
    "print(report)\n",
    "\n",
    "with open(\"resnet/classification_report_resnet.txt\", \"w\") as f:\n",
    "    f.write(report)\n",
    "\n",
    "with open(\"resnet/all_metrics_resnet.txt\", \"w\") as f:\n",
    "    f.write(\"Classification Report:\\n\" + report + \"\\n\")\n",
    "    binary_acc = (y_test == y_pred_bin).mean()\n",
    "    f.write(f\"Binary accuracy: {binary_acc:.4f}\\n\")\n",
    "\n",
    "    try:\n",
    "        f.write(f\"AUROC macro: {roc_auc_score(y_test, y_pred_probs, average='macro'):.4f}\\n\")\n",
    "        f.write(f\"AUROC micro: {roc_auc_score(y_test, y_pred_probs, average='micro'):.4f}\\n\")\n",
    "    except:\n",
    "        pass\n",
    "    try:\n",
    "        f.write(f\"AUPRC macro: {average_precision_score(y_test, y_pred_probs, average='macro'):.4f}\\n\")\n",
    "        f.write(f\"AUPRC micro: {average_precision_score(y_test, y_pred_probs, average='micro'):.4f}\\n\")\n",
    "    except:\n",
    "        pass\n",
    "\n",
    "    f.write(f\"Hamming Loss: {hamming_loss(y_test, y_pred_bin):.4f}\\n\")\n",
    "    f.write(f\"Subset Accuracy: {np.all(y_test == y_pred_bin, axis=1).mean():.4f}\\n\")\n",
    "    f.write(f\"MCC: {matthews_corrcoef(y_test.flatten(), y_pred_bin.flatten()):.4f}\\n\")\n",
    "\n",
    "# Save confusion matrices\n",
    "cm = multilabel_confusion_matrix(y_test, y_pred_bin)\n",
    "for i, name in enumerate(target_classes):\n",
    "    plt.figure(figsize=(6, 5))\n",
    "    sns.heatmap(cm[i], annot=True, fmt='d', cmap='Blues',\n",
    "                xticklabels=['Pred Neg', 'Pred Pos'],\n",
    "                yticklabels=['Actual Neg', 'Actual Pos'])\n",
    "    plt.title(f\"Confusion Matrix - {name}\")\n",
    "    plt.tight_layout()\n",
    "    plt.savefig(f\"resnet/confusion_matrix_{name}.png\")\n",
    "    plt.close()\n"
   ],
   "id": "69ce9acd1ea44f0d",
   "outputs": [
    {
     "name": "stdout",
     "output_type": "stream",
     "text": [
      "\u001B[1m103/103\u001B[0m \u001B[32m━━━━━━━━━━━━━━━━━━━━\u001B[0m\u001B[37m\u001B[0m \u001B[1m103s\u001B[0m 999ms/step - accuracy: 0.6432 - auc: 0.8877 - loss: 0.3338 - precision: 0.7739 - recall: 0.6452\n",
      "\n",
      "Test results:\n",
      "Loss: 0.3368 | AUC: 0.8861 | Precision: 0.7615 | Recall: 0.6449 | Accuracy: 0.6370\n",
      "\u001B[1m103/103\u001B[0m \u001B[32m━━━━━━━━━━━━━━━━━━━━\u001B[0m\u001B[37m\u001B[0m \u001B[1m125s\u001B[0m 1s/step\n",
      "              precision    recall  f1-score   support\n",
      "\n",
      "        NORM       0.77      0.89      0.83      1442\n",
      "          MI       0.67      0.47      0.55       776\n",
      "        STTC       0.79      0.52      0.63       792\n",
      "          CD       0.81      0.60      0.69       778\n",
      "         HYP       0.69      0.44      0.54       380\n",
      "\n",
      "   micro avg       0.76      0.64      0.70      4168\n",
      "   macro avg       0.75      0.58      0.65      4168\n",
      "weighted avg       0.76      0.64      0.69      4168\n",
      " samples avg       0.70      0.67      0.67      4168\n",
      "\n"
     ]
    }
   ],
   "execution_count": 23
  },
  {
   "metadata": {
    "ExecuteTime": {
     "end_time": "2025-06-13T19:52:16.847264Z",
     "start_time": "2025-06-13T19:52:16.143359Z"
    }
   },
   "cell_type": "code",
   "source": [
    "import numpy as np\n",
    "import matplotlib.pyplot as plt\n",
    "import seaborn as sns\n",
    "from sklearn.metrics import multilabel_confusion_matrix\n",
    "\n",
    "# Load saved predictions and true labels\n",
    "y_test = np.load(\"resnet/y_test.npy\")\n",
    "y_pred_bin = np.load(\"resnet/y_pred_bin.npy\")\n",
    "\n",
    "# Define your class names (replace with your actual classes if needed)\n",
    "target_classes = ['NORM', 'MI', 'STTC', 'CD', 'HYP']\n",
    "\n",
    "# Compute confusion matrices\n",
    "cm = multilabel_confusion_matrix(y_test, y_pred_bin)\n",
    "\n",
    "# Generate confusion matrices with larger font\n",
    "for i, name in enumerate(target_classes):\n",
    "    plt.figure(figsize=(6, 5))\n",
    "    sns.set(font_scale=1.8)  # Increase font size globally for seaborn\n",
    "    sns.heatmap(cm[i], annot=True, fmt='d', cmap='Blues',\n",
    "                xticklabels=['Pred Neg', 'Pred Pos'],\n",
    "                yticklabels=['Actual Neg', 'Actual Pos'],\n",
    "                annot_kws={\"size\": 20})  # Increase size of annotation numbers\n",
    "    plt.title(f\"Confusion Matrix - {name}\", fontsize=18)\n",
    "    plt.xticks(fontsize=18)\n",
    "    plt.yticks(fontsize=18)\n",
    "    plt.tight_layout()\n",
    "    plt.savefig(f\"resnet/confusion_matrix_{name}_largefont.png\")\n",
    "    plt.close()"
   ],
   "id": "658c2a076751e1d3",
   "outputs": [],
   "execution_count": 8
  },
  {
   "metadata": {
    "ExecuteTime": {
     "end_time": "2025-06-04T10:50:55.262110Z",
     "start_time": "2025-06-04T10:50:55.216902Z"
    }
   },
   "cell_type": "code",
   "source": [
    "# Index of the class you care about (e.g., HYP)\n",
    "hyp_index = target_classes.index(\"HYP\")\n",
    "\n",
    "# Index of the sample\n",
    "sample_index = 0  # or any other index\n",
    "\n",
    "# Check correctness\n",
    "is_correct = y_test[sample_index, hyp_index] == y_pred_bin[sample_index, hyp_index]\n",
    "\n",
    "print(f\"Sample {sample_index} prediction for HYP: {'✅ Correct' if is_correct else '❌ Incorrect'}\")\n"
   ],
   "id": "f9762f26a9c550b7",
   "outputs": [
    {
     "name": "stdout",
     "output_type": "stream",
     "text": [
      "Sample 0 prediction for HYP: ✅ Correct\n"
     ]
    }
   ],
   "execution_count": 3
  },
  {
   "metadata": {
    "ExecuteTime": {
     "end_time": "2025-05-26T18:10:59.572799Z",
     "start_time": "2025-05-26T18:10:59.471200Z"
    }
   },
   "cell_type": "code",
   "source": [
    "cm = multilabel_confusion_matrix(y_test, y_pred_bin)\n",
    "np.save(\"resnet/confusion_matrices.npy\", cm)\n",
    "with open(\"resnet/confusion_matrices.txt\", \"w\") as f:\n",
    "    for i, cls in enumerate(target_classes):\n",
    "        f.write(f\"{cls}:\\n{cm[i]}\\n\")\n"
   ],
   "id": "c35133ecc8efa4fb",
   "outputs": [],
   "execution_count": 22
  },
  {
   "metadata": {
    "ExecuteTime": {
     "end_time": "2025-05-26T16:54:54.960769Z",
     "start_time": "2025-05-26T16:54:54.362262Z"
    }
   },
   "cell_type": "code",
   "source": [
    "plt.figure(figsize=(10, 4))\n",
    "plt.subplot(1, 2, 1)\n",
    "plt.plot(history.history[\"loss\"], label=\"Train Loss\")\n",
    "plt.plot(history.history[\"val_loss\"], label=\"Val Loss\")\n",
    "plt.legend()\n",
    "plt.title(\"Loss Curve\")\n",
    "\n",
    "plt.subplot(1, 2, 2)\n",
    "plt.plot(history.history[\"accuracy\"], label=\"Train Accuracy\")\n",
    "plt.plot(history.history[\"val_accuracy\"], label=\"Val Accuracy\")\n",
    "plt.legend()\n",
    "plt.title(\"Accuracy Curve\")\n",
    "\n",
    "plt.tight_layout()\n",
    "plt.savefig(\"resnet/training_curves.png\")\n",
    "plt.show()\n"
   ],
   "id": "bd7b563bff22d5f6",
   "outputs": [
    {
     "data": {
      "text/plain": [
       "<Figure size 1000x400 with 2 Axes>"
      ],
      "image/png": "[encoded data removed]"
     },
     "metadata": {},
     "output_type": "display_data"
    }
   ],
   "execution_count": 14
  },
  {
   "metadata": {
    "ExecuteTime": {
     "end_time": "2025-05-26T16:59:30.988652Z",
     "start_time": "2025-05-26T16:59:30.949115Z"
    }
   },
   "cell_type": "code",
   "source": [
    "def generate_grad_cam(model, image_array, class_index, output_path, last_conv_layer_name=\"conv5_block3_out\"):\n",
    "    grad_model = tf.keras.models.Model(\n",
    "        [model.inputs], [model.get_layer(last_conv_layer_name).output, model.output]\n",
    "    )\n",
    "    with tf.GradientTape() as tape:\n",
    "        inputs = tf.cast(np.expand_dims(image_array, axis=0), tf.float32)\n",
    "        conv_outputs, predictions = grad_model(inputs)\n",
    "        loss = predictions[:, class_index]\n",
    "    grads = tape.gradient(loss, conv_outputs)[0]  # Shape: [H, W, C]\n",
    "    conv_outputs = conv_outputs[0]\n",
    "    weights = tf.reduce_mean(grads, axis=(0, 1))  # Now valid\n",
    "    cam = np.zeros(conv_outputs.shape[0:2], dtype=np.float32)\n",
    "    for i, w in enumerate(weights):\n",
    "        cam += w * conv_outputs[:, :, i]\n",
    "    cam = np.maximum(cam, 0)\n",
    "    cam = cv2.resize(cam, image_size)\n",
    "    cam -= cam.min()\n",
    "    cam /= cam.max()\n",
    "    heatmap = cv2.applyColorMap(np.uint8(255 * cam), cv2.COLORMAP_JET)\n",
    "    img = np.uint8(255 * image_array)\n",
    "    overlay = cv2.addWeighted(img, 0.6, heatmap, 0.4, 0)\n",
    "    cv2.imwrite(output_path, overlay)\n",
    "    print(f\"✅ Grad-CAM saved to {output_path}\")\n"
   ],
   "id": "ac6fcb3ab3f4fd7f",
   "outputs": [],
   "execution_count": 15
  },
  {
   "metadata": {
    "ExecuteTime": {
     "end_time": "2025-05-26T17:01:06.427073Z",
     "start_time": "2025-05-26T17:01:01.773546Z"
    }
   },
   "cell_type": "code",
   "source": [
    "for i, class_name in enumerate(target_classes):\n",
    "    generate_grad_cam(\n",
    "        model,\n",
    "        X_test[0],\n",
    "        class_index=i,\n",
    "        output_path=f\"resnet/gradcam_{class_name}_sample0.png\",\n",
    "        last_conv_layer_name=\"conv5_block3_out\"\n",
    "    )\n"
   ],
   "id": "81ff59760a63a60a",
   "outputs": [
    {
     "name": "stderr",
     "output_type": "stream",
     "text": [
      "/Users/anatatar/Desktop/Licenta/ai_models/.venv/lib/python3.10/site-packages/keras/src/models/functional.py:238: UserWarning: The structure of `inputs` doesn't match the expected structure.\n",
      "Expected: [['keras_tensor']]\n",
      "Received: inputs=Tensor(shape=(1, 224, 224, 3))\n",
      "  warnings.warn(msg)\n"
     ]
    },
    {
     "name": "stdout",
     "output_type": "stream",
     "text": [
      "✅ Grad-CAM saved to resnet/gradcam_NORM_sample0.png\n",
      "✅ Grad-CAM saved to resnet/gradcam_MI_sample0.png\n",
      "✅ Grad-CAM saved to resnet/gradcam_STTC_sample0.png\n",
      "✅ Grad-CAM saved to resnet/gradcam_CD_sample0.png\n",
      "✅ Grad-CAM saved to resnet/gradcam_HYP_sample0.png\n"
     ]
    }
   ],
   "execution_count": 18
  }
 ],
 "metadata": {
  "kernelspec": {
   "display_name": "Python 3",
   "language": "python",
   "name": "python3"
  },
  "language_info": {
   "codemirror_mode": {
    "name": "ipython",
    "version": 2
   },
   "file_extension": ".py",
   "mimetype": "text/x-python",
   "name": "python",
   "nbconvert_exporter": "python",
   "pygments_lexer": "ipython2",
   "version": "2.7.6"
  }
 },
 "nbformat": 4,
 "nbformat_minor": 5
}
